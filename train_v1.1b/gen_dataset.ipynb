{
 "cells": [
  {
   "cell_type": "code",
   "execution_count": 16,
   "metadata": {},
   "outputs": [],
   "source": [
    "import json\n",
    "\n",
    "with open(\"data/KoAlpaca_v1.1.json\", \"r\") as f:\n",
    "    raw = [json.loads(line) for line in list(f)]"
   ]
  },
  {
   "cell_type": "code",
   "execution_count": 17,
   "metadata": {},
   "outputs": [],
   "source": [
    "default_state = [\n",
    "    {'role': '맥락', 'content': 'KoAlpaca(코알파카)는 EleutherAI에서 개발한 Polyglot-ko 라는 한국어 모델을 기반으로, 자연어 처리 연구자 Beomi가 개발한 모델입니다.'},\n",
    "    {'role': '맥락', 'content': 'ChatKoAlpaca(챗코알파카)는 KoAlpaca를 채팅형으로 만든 것입니다.'},\n",
    "    {'role': '명령어', 'content': '친절한 AI 챗봇인 ChatKoAlpaca 로서 답변을 합니다.'},\n",
    "    {'role': '명령어', 'content': '인사에는 짧고 간단한 친절한 인사로 답하고, 아래 대화에 간단하고 짧게 답해주세요.'}\n",
    "]"
   ]
  },
  {
   "cell_type": "code",
   "execution_count": 18,
   "metadata": {},
   "outputs": [],
   "source": [
    "import random\n",
    "\n",
    "num_samples = []\n",
    "total = 0\n",
    "while True:\n",
    "    randint = random.randint(1, 6)\n",
    "    if total + randint >= len(raw):\n",
    "        randint = len(raw) - total\n",
    "        num_samples.append(randint)\n",
    "        break\n",
    "    num_samples.append(randint)\n",
    "    total += randint"
   ]
  },
  {
   "cell_type": "code",
   "execution_count": 19,
   "metadata": {},
   "outputs": [],
   "source": [
    "for i, num in enumerate(num_samples):\n",
    "    if i > 0:\n",
    "        num_samples[i] = num + num_samples[i-1]"
   ]
  },
  {
   "cell_type": "code",
   "execution_count": 20,
   "metadata": {},
   "outputs": [],
   "source": [
    "num_samples = [0] + num_samples"
   ]
  },
  {
   "cell_type": "code",
   "execution_count": 27,
   "metadata": {},
   "outputs": [],
   "source": [
    "conversations = []\n",
    "for i in range(len(num_samples) - 1):\n",
    "    cur_state = default_state.copy()\n",
    "    cur_split = raw[num_samples[i]:num_samples[i+1]]\n",
    "    for j, sample in enumerate(cur_split):\n",
    "        if j == len(cur_split) - 1:\n",
    "            new_state = [{\"role\":\"질문\", \"content\": sample['instruction']}, {\"role\":\"답변\", \"content\": sample['output']}]\n",
    "        else:\n",
    "            new_state = [{\"role\":\"이전 질문\", \"content\": sample['instruction']}, {\"role\":\"이전 답변\", \"content\": sample['output']}]\n",
    "        cur_state += new_state\n",
    "    conversation_history = \"\\n\".join(\n",
    "        [f\"### {msg['role']}:\\n{msg['content']}\" for msg in cur_state]\n",
    "    )\n",
    "    conversations.append(conversation_history.replace(\"### 답변\", \"\\n### 답변\"))"
   ]
  },
  {
   "cell_type": "code",
   "execution_count": 31,
   "metadata": {},
   "outputs": [
    {
     "name": "stdout",
     "output_type": "stream",
     "text": [
      "### 맥락:\n",
      "KoAlpaca(코알파카)는 EleutherAI에서 개발한 Polyglot-ko 라는 한국어 모델을 기반으로, 자연어 처리 연구자 Beomi가 개발한 모델입니다.\n",
      "### 맥락:\n",
      "ChatKoAlpaca(챗코알파카)는 KoAlpaca를 채팅형으로 만든 것입니다.\n",
      "### 명령어:\n",
      "친절한 AI 챗봇인 ChatKoAlpaca 로서 답변을 합니다.\n",
      "### 명령어:\n",
      "인사에는 짧고 간단한 친절한 인사로 답하고, 아래 대화에 간단하고 짧게 답해주세요.\n",
      "### 이전 질문:\n",
      "양파는 어떤 식물 부위인가요? 그리고 고구마는 뿌리인가요?\n",
      "### 이전 답변:\n",
      "양파는 잎이 아닌 식물의 줄기 부분입니다. 고구마는 식물의 뿌리 부분입니다. \n",
      "\n",
      "식물의 부위의 구분에 대해 궁금해하는 분이라면 분명 이 질문에 대한 답을 찾고 있을 것입니다. 양파는 잎이 아닌 줄기 부분입니다. 고구마는 다른 질문과 답변에서 언급된 것과 같이 뿌리 부분입니다. 따라서, 양파는 식물의 줄기 부분이 되고, 고구마는 식물의 뿌리 부분입니다.\n",
      "\n",
      " 덧붙이는 답변: 고구마 줄기도 볶아먹을 수 있나요? \n",
      "\n",
      "고구마 줄기도 식용으로 볶아먹을 수 있습니다. 하지만 줄기 뿐만 아니라, 잎, 씨, 뿌리까지 모든 부위가 식용으로 활용되기도 합니다. 다만, 한국에서는 일반적으로 뿌리 부분인 고구마를 주로 먹습니다.\n",
      "### 이전 질문:\n",
      "스웨터의 유래는 어디에서 시작되었나요?\n",
      "### 이전 답변:\n",
      "스웨터의 유래는 14세기경 북유럽항구지역에서 어망을 짜던 기술을 의복에 활용하면서 시작되었습니다. 노동자들의 방한복에서 시작된 스웨터는 여가생활과 스포츠의 붐에 힘입어 대중화되었습니다. 이후, 겨울철 이너웨어의 대명사가 되었습니다. 스웨터는 짜서(Knit) 만든 옷을 말하며, 어부들의 방한복으로 짜여졌던 스웨터 중에서도 스코틀랜드 해안지방의 여인들은 바다로 나가는 남편이나 연인, 자식들에게 무사히 돌아올 것을 기원하며 로프나 닻 무늬를 정성껏 짜넣었다고 합니다. 그 실용성과 정성이 오늘에까지 이어지고 있습니다.\n",
      "### 이전 질문:\n",
      "토성의 고리가 빛의 띠로 보이는 이유는 무엇인가요?  \n",
      "\n",
      "토성의 고리는 얼음과 같은 여러 물질로 이루어져 있다고 알고 있는데, 카시니가 찍은 사진에서 마치 빛의 띠 처럼 보이는 이유가 무엇인가요? 물질의 공전 속도가 빠르기 때문에 카메라로 담았을 때 빛의 궤적으로 보이는 건가요? 또한, 야간에 빠르게 움직이는 자동차를 장노출로 찍었을 때 빛의 궤적이 생기는 것과 같은 원리일까요? 그리고 빛의 궤적이 생기는 것은 우주라는 어두운 환경 특성 때문이라고 생각됩니다. 이게 맞을까요?\n",
      "### 이전 답변:\n",
      "토성의 고리가 미세한 입자들로 이루어져 있기 때문에, 입자들의 밀도 차이 때문에 카시니 탐사선에서 찍은 고해상도 사진에서 빛의 띠가 보이는 것입니다.  \n",
      "\n",
      "실제로는 토성의 고리 입자들의 운동이 장노출 사진에서 잔상이 생기는 이유와 관련이 없습니다. 물체의 운동은 토성의 고리가 매끄럽게 보이는 이유와 상관이 없습니다. \n",
      "\n",
      "밀도 차이로 생긴 미세한 입자들의 밀도는 연속적인 것이 아니며 광학계의 분해능으로 인해 고해상도 사진에서 입자 간격이 잘 보이지 않습니다. 따라서, 토성의 고리가 빛의 띠로 보이는 것은 고리 입자밀도의 차이 때문입니다. \n",
      "\n",
      "이렇게 입자들의 밀도 차이가 빛의 띠처럼 보이는 것은, 마치 축구장에서 앉아 조각판처럼 보이는 것과 같은 현상으로 이해할 수 있습니다. 마찬가지로, 먼 광활지에서 숲은 보이고 나무는 안 보이며, 이것은 발생하는 현상과 유사합니다.\n",
      "\n",
      "더 자세한 사항을 알고 싶다면 우주선이 고리를 아주 가까이 찍어 볼 필요가 있습니다. 이것은 훨씬 상세한 데이터를 얻기 위해서는 더욱 다양한 탐사가 필요합니다.\n",
      "### 이전 질문:\n",
      "화장품 OEM과 화장품 ODM의 차이점은 무엇인가요?\n",
      "화장품 자체 제조 브랜드 런칭을 위해 OEM과 ODM용어에 대해 혼란스러움을 느끼고 있습니다. 두 용어의 차이점이 무엇인지 알고 싶습니다.\n",
      "### 이전 답변:\n",
      "화장품 제조업체는 대체로 OEM과 ODM을 통해 제품을 만듭니다. OEM은 브랜드에서 제품을 주문하였을 때, 반제품이나 완제품으로 납품받는 방식입니다. 반면 ODM은 자체 개발 능력을 갖춘 제조원이 유통까지 담당하여 상품을 공급하는 방식입니다. ODM은 직접 연구 개발을 통해 제품을 만들어주는 점에서 OEM과 차이가 있습니다. 대표적인 OEM/ODM 기업에는 코스맥스, 오울코리아, 한국콜마 등이 있습니다. 최근에는 OEM과 ODM의 경계가 허물어지고 있어 브랜딩부터 용기와 케이스 디자인까지 전반적인 제품 제조를 담당하는 기업도 많습니다. 이를 바탕으로, OEM은 브랜드에서 주문한 제품을 납품받고, ODM은 직접 개발하여 유통까지 책임지는 차이점이 있습니다.\n",
      "### 질문:\n",
      "'사이보그'는 언제 처음 등장한 말이며, 그 의미와 종류에는 어떤 것이 있는지 알고 싶습니다.\n",
      "\n",
      "### 답변:\n",
      "'사이보그'는 1960년에 처음 등장한 말로, 기계와 유기체가 합성되어 생겨난 새로운 개념을 나타냅니다. 주로 공상과학영화에서 등장하며, 1985년 페미니스트인 도나 해러웨이가 발표한 '사이보그를 위한 선언문'으로 인해 사이보그는 성차별 사회를 극복하는 사회정치적 상징으로 더욱 주목받게 되었습니다. 사이보그는 생물체와 기술적 개입이 결합된 다양한 종류가 있으며, 이제는 인공장기를 받은 사람, 예방접종을 받은 사람, 또는 사람과 기계가 결합된 베리칩과 같은 기술적 개입을 받은 사람들까지 우리 주변에서 만날 수 있습니다. \n",
      "\n",
      "또한, 지구 위치 파악 기능이나 신체 건강 상태를 감지하는 센서 등을 추가적으로 부착하면서 사이보그의 구조와 기능이 더욱 다양해지고 있습니다. 이러한 발전은 사이보그의 대중화를 가속화시키고 있으나, 범죄나 인권 침해 등의 문제가 발생할 가능성도 존재합니다.\n"
     ]
    }
   ],
   "source": [
    "print(conversations[0])"
   ]
  },
  {
   "cell_type": "code",
   "execution_count": 32,
   "metadata": {},
   "outputs": [],
   "source": [
    "from transformers import AutoTokenizer\n",
    "tokenizer = AutoTokenizer.from_pretrained(\"EleutherAI/polyglot-ko-12.8b\")"
   ]
  },
  {
   "cell_type": "code",
   "execution_count": null,
   "metadata": {},
   "outputs": [],
   "source": [
    "encoded_len = []\n",
    "encoded = tokenizer.encode()"
   ]
  },
  {
   "cell_type": "code",
   "execution_count": null,
   "metadata": {},
   "outputs": [],
   "source": []
  },
  {
   "cell_type": "code",
   "execution_count": null,
   "metadata": {},
   "outputs": [],
   "source": [
    "encoded_len = []\n",
    "encoded = tokenizer.encode()"
   ]
  }
 ],
 "metadata": {
  "kernelspec": {
   "display_name": "hai-ground",
   "language": "python",
   "name": "python3"
  },
  "language_info": {
   "codemirror_mode": {
    "name": "ipython",
    "version": 3
   },
   "file_extension": ".py",
   "mimetype": "text/x-python",
   "name": "python",
   "nbconvert_exporter": "python",
   "pygments_lexer": "ipython3",
   "version": "3.9.13"
  },
  "orig_nbformat": 4
 },
 "nbformat": 4,
 "nbformat_minor": 2
}
